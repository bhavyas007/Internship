{
 "cells": [
  {
   "cell_type": "code",
   "execution_count": 1,
   "id": "a02a79ec",
   "metadata": {},
   "outputs": [
    {
     "name": "stdout",
     "output_type": "stream",
     "text": [
      "enter number: 13\n",
      "factorial of 13.0 is 6227020800.0\n"
     ]
    }
   ],
   "source": [
    "# factorial programme\n",
    "def factorial(n):\n",
    "    return 1 if (n==1 or n==0) else n* factorial(n-1)\n",
    "# driver code\n",
    "num= float(input(\"enter number: \"))\n",
    "print(\"factorial of {0} is {1}\".format(num, factorial(num)))"
   ]
  },
  {
   "cell_type": "code",
   "execution_count": 2,
   "id": "fe328092",
   "metadata": {},
   "outputs": [
    {
     "name": "stdout",
     "output_type": "stream",
     "text": [
      "enter any number: 14\n",
      "number is composite number\n"
     ]
    }
   ],
   "source": [
    "# find number is prime or composite\n",
    "num= int(input(\"enter any number: \"))\n",
    "if num % 2==0:\n",
    "    print(\"number is composite number\")\n",
    "else:\n",
    "    print(\"number is prime number\")"
   ]
  },
  {
   "cell_type": "code",
   "execution_count": 3,
   "id": "1a89d845",
   "metadata": {},
   "outputs": [
    {
     "name": "stdout",
     "output_type": "stream",
     "text": [
      "Enter a string:madam\n",
      "madam is a Palindrome string\n"
     ]
    }
   ],
   "source": [
    "# string is palindrom or not input\n",
    "str=input(\"Enter a string:\")\n",
    "w=\"\"\n",
    "for element in str[::-1]:\n",
    "    w = w+element\n",
    "if (str==w):\n",
    "    print(str, 'is a Palindrome string')\n",
    "else:\n",
    "    print(str,' is NOT a Palindrome string')"
   ]
  },
  {
   "cell_type": "code",
   "execution_count": 4,
   "id": "23bf8017",
   "metadata": {},
   "outputs": [],
   "source": [
    "# third side of right-angled triangle from two given sides.\n",
    "def pythagoras(opposite_side,adjacent_side,hypotenuse):\n",
    "        if opposite_side == str(\"x\"):\n",
    "            return (\"Opposite = \" + str(((hypotenuse**2) - (adjacent_side**2))**0.5))\n",
    "        elif adjacent_side == str(\"x\"):\n",
    "            return (\"Adjacent = \" + str(((hypotenuse**2) - (opposite_side**2))**0.5))\n",
    "        elif hypotenuse == str(\"x\"):\n",
    "            return (\"Hypotenuse = \" + str(((opposite_side**2) + (adjacent_side**2))**0.5))\n",
    "        else:\n",
    "            return \"You know the answer!\""
   ]
  },
  {
   "cell_type": "code",
   "execution_count": 8,
   "id": "bb849237",
   "metadata": {},
   "outputs": [
    {
     "ename": "TypeError",
     "evalue": "'str' object is not callable",
     "output_type": "error",
     "traceback": [
      "\u001b[1;31m---------------------------------------------------------------------------\u001b[0m",
      "\u001b[1;31mTypeError\u001b[0m                                 Traceback (most recent call last)",
      "\u001b[1;32m~\\AppData\\Local\\Temp/ipykernel_11224/197815996.py\u001b[0m in \u001b[0;36m<module>\u001b[1;34m\u001b[0m\n\u001b[0;32m      8\u001b[0m         \u001b[0mall_freq\u001b[0m\u001b[1;33m[\u001b[0m\u001b[0mi\u001b[0m\u001b[1;33m]\u001b[0m\u001b[1;33m=\u001b[0m \u001b[1;36m1\u001b[0m\u001b[1;33m\u001b[0m\u001b[1;33m\u001b[0m\u001b[0m\n\u001b[0;32m      9\u001b[0m \u001b[1;33m\u001b[0m\u001b[0m\n\u001b[1;32m---> 10\u001b[1;33m \u001b[0mprint\u001b[0m\u001b[1;33m(\u001b[0m\u001b[1;34m\"frequency of each character is:\\n \"\u001b[0m\u001b[1;33m+\u001b[0m\u001b[0mstr\u001b[0m\u001b[1;33m(\u001b[0m\u001b[0mall_freq\u001b[0m\u001b[1;33m)\u001b[0m\u001b[1;33m)\u001b[0m\u001b[1;33m\u001b[0m\u001b[1;33m\u001b[0m\u001b[0m\n\u001b[0m",
      "\u001b[1;31mTypeError\u001b[0m: 'str' object is not callable"
     ]
    }
   ],
   "source": [
    "#frequency of each of the characters present in a given string\n",
    "test_string= \"RadheyMohan\"\n",
    "all_freq= {}\n",
    "for i in test_string:\n",
    "    if i in all_freq:\n",
    "        all_freq[i] += 1\n",
    "    else:\n",
    "        all_freq[i]= 1\n",
    "        \n",
    "print(\"frequency of each character is:\\n \"+str(all_freq))\n"
   ]
  }
 ],
 "metadata": {
  "kernelspec": {
   "display_name": "Python 3 (ipykernel)",
   "language": "python",
   "name": "python3"
  },
  "language_info": {
   "codemirror_mode": {
    "name": "ipython",
    "version": 3
   },
   "file_extension": ".py",
   "mimetype": "text/x-python",
   "name": "python",
   "nbconvert_exporter": "python",
   "pygments_lexer": "ipython3",
   "version": "3.9.7"
  }
 },
 "nbformat": 4,
 "nbformat_minor": 5
}
